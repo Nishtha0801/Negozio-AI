{
 "cells": [
  {
   "cell_type": "markdown",
   "id": "c5cd299b",
   "metadata": {},
   "source": [
    "# Deliverable 1: Point 4"
   ]
  },
  {
   "cell_type": "markdown",
   "id": "607c96cd",
   "metadata": {},
   "source": [
    "### Importing the Liberaries"
   ]
  },
  {
   "cell_type": "code",
   "execution_count": 2,
   "id": "e614ba4b",
   "metadata": {},
   "outputs": [],
   "source": [
    "import numpy as np\n",
    "import pandas as pd\n",
    "import matplotlib.pyplot as plt\n",
    "\n",
    "plt.style.use(\"ggplot\")\n",
    "\n",
    "import sklearn\n",
    "from sklearn.decomposition import TruncatedSVD"
   ]
  },
  {
   "cell_type": "markdown",
   "id": "aa0a6830",
   "metadata": {},
   "source": [
    "### The dataset contains the list of all the products with their product IDs and their ratings given by past/other users. "
   ]
  },
  {
   "cell_type": "code",
   "execution_count": 3,
   "id": "3319ff1d",
   "metadata": {
    "scrolled": true
   },
   "outputs": [
    {
     "data": {
      "text/html": [
       "<div>\n",
       "<style scoped>\n",
       "    .dataframe tbody tr th:only-of-type {\n",
       "        vertical-align: middle;\n",
       "    }\n",
       "\n",
       "    .dataframe tbody tr th {\n",
       "        vertical-align: top;\n",
       "    }\n",
       "\n",
       "    .dataframe thead th {\n",
       "        text-align: right;\n",
       "    }\n",
       "</style>\n",
       "<table border=\"1\" class=\"dataframe\">\n",
       "  <thead>\n",
       "    <tr style=\"text-align: right;\">\n",
       "      <th></th>\n",
       "      <th>ITEM</th>\n",
       "      <th>ProductId</th>\n",
       "      <th>Rating</th>\n",
       "      <th>0.775944039</th>\n",
       "    </tr>\n",
       "  </thead>\n",
       "  <tbody>\n",
       "    <tr>\n",
       "      <th>0</th>\n",
       "      <td>toothpaste</td>\n",
       "      <td>6175005570</td>\n",
       "      <td>5</td>\n",
       "      <td>0.370647</td>\n",
       "    </tr>\n",
       "    <tr>\n",
       "      <th>1</th>\n",
       "      <td>whole wheat pasta</td>\n",
       "      <td>1304488608</td>\n",
       "      <td>1</td>\n",
       "      <td>0.409451</td>\n",
       "    </tr>\n",
       "    <tr>\n",
       "      <th>2</th>\n",
       "      <td>white wine</td>\n",
       "      <td>6167061580</td>\n",
       "      <td>4</td>\n",
       "      <td>0.083153</td>\n",
       "    </tr>\n",
       "    <tr>\n",
       "      <th>3</th>\n",
       "      <td>grated cheese</td>\n",
       "      <td>1304651104</td>\n",
       "      <td>4</td>\n",
       "      <td>0.379359</td>\n",
       "    </tr>\n",
       "    <tr>\n",
       "      <th>4</th>\n",
       "      <td>whole weat flour</td>\n",
       "      <td>1304139212</td>\n",
       "      <td>3</td>\n",
       "      <td>0.225093</td>\n",
       "    </tr>\n",
       "  </tbody>\n",
       "</table>\n",
       "</div>"
      ],
      "text/plain": [
       "                ITEM   ProductId  Rating  0.775944039\n",
       "0         toothpaste  6175005570       5     0.370647\n",
       "1  whole wheat pasta  1304488608       1     0.409451\n",
       "2         white wine  6167061580       4     0.083153\n",
       "3      grated cheese  1304651104       4     0.379359\n",
       "4   whole weat flour  1304139212       3     0.225093"
      ]
     },
     "execution_count": 3,
     "metadata": {},
     "output_type": "execute_result"
    }
   ],
   "source": [
    "ratings = pd.read_csv('New User Rec - Copy.csv')\n",
    "ratings = ratings.dropna()\n",
    "ratings.head()"
   ]
  },
  {
   "cell_type": "markdown",
   "id": "e402a419",
   "metadata": {},
   "source": [
    "### The products with the highest ratings are recommended to the new users"
   ]
  },
  {
   "cell_type": "code",
   "execution_count": 9,
   "id": "4a0cdeb7",
   "metadata": {},
   "outputs": [
    {
     "data": {
      "text/plain": [
       "58       3\n",
       "124      2\n",
       "208      1\n",
       "210      2\n",
       "233      4\n",
       "        ..\n",
       "16403    5\n",
       "16860    2\n",
       "16907    5\n",
       "16934    3\n",
       "16982    3\n",
       "Name: Rating, Length: 145, dtype: int64"
      ]
     },
     "execution_count": 9,
     "metadata": {},
     "output_type": "execute_result"
    }
   ],
   "source": [
    "pp = pd.DataFrame(ratings.groupby('ProductId'))\n",
    "x = pp[1][0]['Rating']#.count()\n",
    "# y = x.sort_values('Rating', ascending=False)\n",
    "x"
   ]
  },
  {
   "cell_type": "code",
   "execution_count": 21,
   "id": "7ee4f8e4",
   "metadata": {},
   "outputs": [
    {
     "data": {
      "text/html": [
       "<div>\n",
       "<style scoped>\n",
       "    .dataframe tbody tr th:only-of-type {\n",
       "        vertical-align: middle;\n",
       "    }\n",
       "\n",
       "    .dataframe tbody tr th {\n",
       "        vertical-align: top;\n",
       "    }\n",
       "\n",
       "    .dataframe thead th {\n",
       "        text-align: right;\n",
       "    }\n",
       "</style>\n",
       "<table border=\"1\" class=\"dataframe\">\n",
       "  <thead>\n",
       "    <tr style=\"text-align: right;\">\n",
       "      <th></th>\n",
       "      <th>index</th>\n",
       "      <th>ITEM</th>\n",
       "      <th>Rating</th>\n",
       "    </tr>\n",
       "  </thead>\n",
       "  <tbody>\n",
       "    <tr>\n",
       "      <th>0</th>\n",
       "      <td>44</td>\n",
       "      <td>fresh bread</td>\n",
       "      <td>166</td>\n",
       "    </tr>\n",
       "    <tr>\n",
       "      <th>1</th>\n",
       "      <td>67</td>\n",
       "      <td>mayonnaise</td>\n",
       "      <td>158</td>\n",
       "    </tr>\n",
       "    <tr>\n",
       "      <th>2</th>\n",
       "      <td>88</td>\n",
       "      <td>red wine</td>\n",
       "      <td>156</td>\n",
       "    </tr>\n",
       "    <tr>\n",
       "      <th>3</th>\n",
       "      <td>84</td>\n",
       "      <td>pepper</td>\n",
       "      <td>154</td>\n",
       "    </tr>\n",
       "    <tr>\n",
       "      <th>4</th>\n",
       "      <td>33</td>\n",
       "      <td>cream</td>\n",
       "      <td>154</td>\n",
       "    </tr>\n",
       "    <tr>\n",
       "      <th>5</th>\n",
       "      <td>46</td>\n",
       "      <td>fromage blanc</td>\n",
       "      <td>153</td>\n",
       "    </tr>\n",
       "    <tr>\n",
       "      <th>6</th>\n",
       "      <td>48</td>\n",
       "      <td>frozen vegetables</td>\n",
       "      <td>152</td>\n",
       "    </tr>\n",
       "    <tr>\n",
       "      <th>7</th>\n",
       "      <td>63</td>\n",
       "      <td>light mayo</td>\n",
       "      <td>152</td>\n",
       "    </tr>\n",
       "    <tr>\n",
       "      <th>8</th>\n",
       "      <td>13</td>\n",
       "      <td>burger sauce</td>\n",
       "      <td>151</td>\n",
       "    </tr>\n",
       "    <tr>\n",
       "      <th>9</th>\n",
       "      <td>93</td>\n",
       "      <td>sandwich</td>\n",
       "      <td>151</td>\n",
       "    </tr>\n",
       "  </tbody>\n",
       "</table>\n",
       "</div>"
      ],
      "text/plain": [
       "   index               ITEM  Rating\n",
       "0     44        fresh bread     166\n",
       "1     67         mayonnaise     158\n",
       "2     88           red wine     156\n",
       "3     84             pepper     154\n",
       "4     33              cream     154\n",
       "5     46      fromage blanc     153\n",
       "6     48  frozen vegetables     152\n",
       "7     63         light mayo     152\n",
       "8     13       burger sauce     151\n",
       "9     93           sandwich     151"
      ]
     },
     "execution_count": 21,
     "metadata": {},
     "output_type": "execute_result"
    }
   ],
   "source": [
    "popular_products = pd.DataFrame(ratings.groupby('ITEM',as_index=False)['Rating'].count())\n",
    "most_popular = popular_products.sort_values('Rating', ascending=False).reset_index()\n",
    "most_popular.head(10)"
   ]
  },
  {
   "cell_type": "code",
   "execution_count": 17,
   "id": "eceea67f",
   "metadata": {
    "scrolled": true
   },
   "outputs": [
    {
     "data": {
      "text/plain": [
       "<AxesSubplot:xlabel='ProductId'>"
      ]
     },
     "execution_count": 17,
     "metadata": {},
     "output_type": "execute_result"
    },
    {
     "data": {
      "image/png": "[encoded data removed]",
      "text/plain": [
       "<Figure size 432x288 with 1 Axes>"
      ]
     },
     "metadata": {},
     "output_type": "display_data"
    }
   ],
   "source": [
    "most_popular.head(10).plot(kind = \"bar\")"
   ]
  },
  {
   "cell_type": "markdown",
   "id": "a5edfcc0",
   "metadata": {},
   "source": [
    "### The above bar graph represents the top 10 products with the highest ratings by other users. The product names corresponding to these product IDs will be recommended."
   ]
  }
 ],
 "metadata": {
  "kernelspec": {
   "display_name": "Python 3",
   "language": "python",
   "name": "python3"
  },
  "language_info": {
   "codemirror_mode": {
    "name": "ipython",
    "version": 3
   },
   "file_extension": ".py",
   "mimetype": "text/x-python",
   "name": "python",
   "nbconvert_exporter": "python",
   "pygments_lexer": "ipython3",
   "version": "3.8.8"
  }
 },
 "nbformat": 4,
 "nbformat_minor": 5
}
